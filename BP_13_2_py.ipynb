{
  "nbformat": 4,
  "nbformat_minor": 0,
  "metadata": {
    "colab": {
      "provenance": [],
      "authorship_tag": "ABX9TyO3dHryi3kBoFgG00Tm5R0J",
      "include_colab_link": true
    },
    "kernelspec": {
      "name": "python3",
      "display_name": "Python 3"
    },
    "language_info": {
      "name": "python"
    }
  },
  "cells": [
    {
      "cell_type": "markdown",
      "metadata": {
        "id": "view-in-github",
        "colab_type": "text"
      },
      "source": [
        "<a href=\"https://colab.research.google.com/github/parkdongseop/BP_13-2.py/blob/main/BP_13_2_py.ipynb\" target=\"_parent\"><img src=\"https://colab.research.google.com/assets/colab-badge.svg\" alt=\"Open In Colab\"/></a>"
      ]
    },
    {
      "cell_type": "code",
      "execution_count": null,
      "metadata": {
        "id": "A6Pgwz_tAzhD"
      },
      "outputs": [],
      "source": [
        "from turtle import *\n",
        "class Car:\n",
        "  def __init__(self, speed, color, model):\n",
        "    self.speed = speed\n",
        "    self.color = color\n",
        "    self.model = model\n",
        "    self.turtle = Turtle() #클래스 안에 거북이 객체를 생성하여 저장한다.\n",
        "    self.turtle.shape(\"car.gif\")\n",
        "\n",
        "  def drive(self):\n",
        "    self.turtle.forward(self.speed)\n",
        "\n",
        "  def left_turn(self):\n",
        "    self.turtle.left(90)\n",
        "\n",
        "register_shape(\"car.gif\") #터틀 그래픽에서 사용되는 이미지를 등록한다. \n",
        "myCar = Car(200, \"red\", \"E-class\")\n",
        "for i in range(100):\n",
        "  myCar.drive()\n",
        "  myCar.left_turn()"
      ]
    }
  ]
}